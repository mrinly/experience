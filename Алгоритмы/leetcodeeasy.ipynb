{
 "cells": [
  {
   "cell_type": "code",
   "execution_count": null,
   "id": "46062e57",
   "metadata": {},
   "outputs": [
    {
     "name": "stdout",
     "output_type": "stream",
     "text": [
      "a\n"
     ]
    }
   ],
   "source": [
    "s = input()\n",
    "ans =  ''\n",
    "anscnt = 0\n",
    "for i in range(len(s)):\n",
    "    nowcnt = 0\n",
    "    for j in range(len(s)):\n",
    "        if s[i] == s[j]:\n",
    "            nowcnt += 1\n",
    "    if nowcnt > anscnt:\n",
    "        ans = s[i]\n",
    "        anscnt = nowcnt\n",
    "\n",
    "print(ans)"
   ]
  },
  {
   "cell_type": "code",
   "execution_count": 2,
   "id": "ccdb4241",
   "metadata": {},
   "outputs": [
    {
     "name": "stdout",
     "output_type": "stream",
     "text": [
      "a\n"
     ]
    }
   ],
   "source": [
    "s = input()\n",
    "\n",
    "print(max(map(lambda x: (s.count(x), x), s))[1])\n"
   ]
  },
  {
   "cell_type": "code",
   "execution_count": null,
   "id": "50d0d510",
   "metadata": {},
   "outputs": [
    {
     "name": "stdout",
     "output_type": "stream",
     "text": [
      "3\n"
     ]
    }
   ],
   "source": [
    "s = input()\n",
    "k = 0\n",
    "dct = {}\n",
    "for item in s:\n",
    "    if item not in dct:\n",
    "        dct[item] = 0\n",
    "    dct[item] +=1\n",
    "\n",
    "for key in dct:\n",
    "    if k < dct[key]:\n",
    "        k = dct[key]\n"
   ]
  },
  {
   "cell_type": "code",
   "execution_count": 19,
   "id": "8a4ddebe",
   "metadata": {},
   "outputs": [
    {
     "name": "stdout",
     "output_type": "stream",
     "text": [
      "-1.0\n"
     ]
    }
   ],
   "source": [
    "seq = list(map(int, input().split()))\n",
    "a, b, c = seq[0], seq[1], seq[2]\n",
    "if a == 0:\n",
    "    if b!= 0:\n",
    "        x1 = -c/b\n",
    "        print(x1)\n",
    "    elif b == 0 and c== 0:\n",
    "        print('Infinite number of solutions')\n",
    "\n",
    "else:\n",
    "    d = b ** 2 - 4 * a * c \n",
    "    if d == 0:\n",
    "        x1 = -b/ (2*a)\n",
    "        print(x1)\n",
    "    elif d >0:\n",
    "        x1 = (-b - d ** (1/2)) / (2*a)\n",
    "        x2 = (-b + d ** (1/2)) / (2*a)\n",
    "        if x1<x2:\n",
    "            print(x1, x2)\n",
    "        else:\n",
    "            print(x2, x1)"
   ]
  },
  {
   "cell_type": "code",
   "execution_count": 26,
   "id": "d6a261a0",
   "metadata": {},
   "outputs": [
    {
     "name": "stdout",
     "output_type": "stream",
     "text": [
      "[0, 1]\n"
     ]
    }
   ],
   "source": [
    "nums = eval(input())\n",
    "target = int(input())\n",
    "indices = {}\n",
    "for i, num in enumerate(nums):\n",
    "    complement = target - num\n",
    "    if complement in indices:\n",
    "        print([indices[complement], i])\n",
    "    indices[num] = i"
   ]
  },
  {
   "cell_type": "code",
   "execution_count": null,
   "id": "27e44196",
   "metadata": {},
   "outputs": [],
   "source": [
    "class Solution:\n",
    "    def sorted"
   ]
  },
  {
   "cell_type": "code",
   "execution_count": null,
   "id": "cae9061c",
   "metadata": {},
   "outputs": [
    {
     "data": {
      "text/plain": [
       "[2, 3, 9, 1, 0, 0, 0]"
      ]
     },
     "execution_count": 22,
     "metadata": {},
     "output_type": "execute_result"
    }
   ],
   "source": [
    "class Solution:\n",
    "    def moveZeroes(self, nums):\n",
    "        nonzero, zero = 0, 0\n",
    "        while nonzero < len(nums):\n",
    "            if nums[nonzero] != 0:\n",
    "                nums[zero], nums[nonzero] = nums[nonzero], nums[zero]\n",
    "                zero += 1\n",
    "            nonzero += 1\n",
    "        return nums\n",
    "\n",
    "a = Solution()\n",
    "a.moveZeroes([2, 0,0,3,9,0,1])\n"
   ]
  },
  {
   "cell_type": "code",
   "execution_count": 21,
   "id": "ccd2947c",
   "metadata": {},
   "outputs": [
    {
     "data": {
      "text/plain": [
       "[0, 0, 0, 2, 3, 9, 1]"
      ]
     },
     "execution_count": 23,
     "metadata": {},
     "output_type": "execute_result"
    }
   ],
   "source": [
    "class Solution:\n",
    "    def moveZeroes(self, nums):\n",
    "        zero, nonzero = len(nums) - 1, len(nums) - 1\n",
    "        while nonzero >= 0:\n",
    "            if nums[nonzero] != 0:\n",
    "                nums[zero], nums[nonzero] = nums[nonzero], nums[zero]\n",
    "                zero -= 1\n",
    "            nonzero -= 1\n",
    "        return nums\n",
    "\n",
    "a = Solution()\n",
    "a.moveZeroes([2,0,0,3,9,0,1])"
   ]
  },
  {
   "cell_type": "code",
   "execution_count": null,
   "id": "469c21de",
   "metadata": {},
   "outputs": [
    {
     "name": "stdout",
     "output_type": "stream",
     "text": [
      "[4, 5, 9] [4, 4, 8, 9, 9]\n"
     ]
    },
    {
     "data": {
      "text/plain": [
       "[4, 9]"
      ]
     },
     "execution_count": 37,
     "metadata": {},
     "output_type": "execute_result"
    }
   ],
   "source": [
    "class Solution:\n",
    "    def intersection(self, nums1, nums2):\n",
    "        nums1.sort()\n",
    "        nums2.sort()\n",
    "        point1 = 0\n",
    "        point2 = 0\n",
    "        intersection = []\n",
    "        while point1 < len(nums1) and point2 < len(nums2):\n",
    "            if nums1[point1] == nums2[point2]:\n",
    "                intersection.append(nums1[point1])\n",
    "                point1 += 1\n",
    "                point2 += 1\n",
    "            elif nums1[point1] > nums2[point2]:\n",
    "                point2 += 1\n",
    "            else:\n",
    "                point1 +=1\n",
    "\n",
    "        return intersection \n",
    "\n",
    "a = Solution()\n",
    "a.intersection([4,9,5], [9,4,9,8,4])"
   ]
  },
  {
   "cell_type": "code",
   "execution_count": null,
   "id": "11a64b42",
   "metadata": {},
   "outputs": [
    {
     "data": {
      "text/plain": [
       "[1, 2, 2, 3]"
      ]
     },
     "execution_count": 6,
     "metadata": {},
     "output_type": "execute_result"
    }
   ],
   "source": [
    "class Solution:\n",
    "    def merge(self, nums1, m, nums2, n):\n",
    "        \"\"\"\n",
    "        Do not return anything, modify nums1 in-place instead.\n",
    "        \"\"\"\n",
    "        point1 = 0\n",
    "        point2 = 0\n",
    "        while point1 < m + n:\n",
    "            \n",
    "\n",
    "        \n",
    "\n",
    "a = Solution()\n",
    "a.merge([1,2,3,0,0,0], 3, [2,5,6], 3)"
   ]
  },
  {
   "cell_type": "code",
   "execution_count": 27,
   "id": "352029ab",
   "metadata": {},
   "outputs": [
    {
     "data": {
      "text/plain": [
       "['124']"
      ]
     },
     "execution_count": 27,
     "metadata": {},
     "output_type": "execute_result"
    }
   ],
   "source": [
    "class Solution:\n",
    "    def plusOne(self, digits):\n",
    "        number = 0\n",
    "        i = 0\n",
    "        while i < len(digits):\n",
    "            number += digits[i] * 10 **(len(digits) - 1 - i)\n",
    "            i += 1\n",
    "        number += 1\n",
    "        str_num = str(number)\n",
    "\n",
    "        return str_num.split()\n",
    "\n",
    "\n",
    "a = Solution()\n",
    "a.plusOne([1,2,3])"
   ]
  }
 ],
 "metadata": {
  "kernelspec": {
   "display_name": "Python 3",
   "language": "python",
   "name": "python3"
  },
  "language_info": {
   "codemirror_mode": {
    "name": "ipython",
    "version": 3
   },
   "file_extension": ".py",
   "mimetype": "text/x-python",
   "name": "python",
   "nbconvert_exporter": "python",
   "pygments_lexer": "ipython3",
   "version": "3.12.10"
  }
 },
 "nbformat": 4,
 "nbformat_minor": 5
}
